{
  "nbformat": 4,
  "nbformat_minor": 0,
  "metadata": {
    "colab": {
      "provenance": [],
      "authorship_tag": "ABX9TyNpLNgg7JtdRoMzbkJs9Xn0",
      "include_colab_link": true
    },
    "kernelspec": {
      "name": "python3",
      "display_name": "Python 3"
    },
    "language_info": {
      "name": "python"
    }
  },
  "cells": [
    {
      "cell_type": "markdown",
      "metadata": {
        "id": "view-in-github",
        "colab_type": "text"
      },
      "source": [
        "<a href=\"https://colab.research.google.com/github/Shravani-26/smile_classification/blob/main/Smile_classification.ipynb\" target=\"_parent\"><img src=\"https://colab.research.google.com/assets/colab-badge.svg\" alt=\"Open In Colab\"/></a>"
      ]
    },
    {
      "cell_type": "code",
      "source": [
        "def input_preprocess(dataframe, image_width, image_height):\n",
        "    \"\"\"This function converts the images into arrays and balances classes.\"\"\"\n",
        "\n",
        "    df = dataframe.copy()\n",
        "\n",
        "    # Renaming the columns of dataframe\n",
        "    df.columns = [\"id\", \"label\"]\n",
        "\n",
        "    # Balancing classes before preprocessing images\n",
        "    train_df, test_df = balance_classes(df, split_ratio=0.15)\n",
        "\n",
        "    # Preprocessing training images\n",
        "    X_train, y_train = [], []\n",
        "    for i, filename in enumerate(train_df[\"id\"].values):\n",
        "        path = f\"/content/drive/MyDrive/happy_images/{filename}.jpg\"\n",
        "        image = preprocess_image(path, image_width, image_height)\n",
        "        X_train.append(image)\n",
        "        y_train.append(train_df[\"label\"][i])\n",
        "\n",
        "        if (i + 1) % 100 == 0:\n",
        "            print(f\"{i + 1} train images processed\")\n",
        "\n",
        "    # Preprocessing testing images\n",
        "    X_test, y_test = [], []\n",
        "    for i, filename in enumerate(test_df[\"id\"].values):\n",
        "        path = f\"/content/drive/MyDrive/happy_images/{filename}.jpg\"\n",
        "        image = preprocess_image(path, image_width, image_height)\n",
        "        X_test.append(image)\n",
        "        y_test.append(test_df[\"label\"][i])\n",
        "\n",
        "        if (i + 1) % 100 == 0:\n",
        "            print(f\"{i + 1} test images processed\")\n",
        "\n",
        "    return np.array(X_train), np.array(y_train), np.array(X_test), np.array(y_test)\n"
      ],
      "metadata": {
        "id": "V7vl7leiORWM"
      },
      "execution_count": 11,
      "outputs": []
    }
  ]
}